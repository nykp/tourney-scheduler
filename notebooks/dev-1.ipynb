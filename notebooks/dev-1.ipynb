{
 "cells": [
  {
   "cell_type": "code",
   "execution_count": 1,
   "id": "b110bbb6",
   "metadata": {},
   "outputs": [],
   "source": [
    "%load_ext autoreload\n",
    "%autoreload 3"
   ]
  },
  {
   "cell_type": "code",
   "execution_count": 2,
   "id": "0d3531b3",
   "metadata": {},
   "outputs": [],
   "source": [
    "from datetime import datetime, timedelta\n",
    "\n",
    "import pendulum"
   ]
  },
  {
   "cell_type": "code",
   "execution_count": 3,
   "id": "da163869",
   "metadata": {},
   "outputs": [],
   "source": [
    "import sys\n",
    "sys.path.insert(0, '..')"
   ]
  },
  {
   "cell_type": "code",
   "execution_count": 4,
   "id": "7dd957ed",
   "metadata": {},
   "outputs": [],
   "source": [
    "from tourney.tournament import Game, Match, MatchSeries, Tournament\n",
    "from tourney.scheduler import get_priority_schedule, get_ref_schedule, get_scoreboard_schedule"
   ]
  },
  {
   "cell_type": "code",
   "execution_count": 5,
   "id": "0af14f3f",
   "metadata": {},
   "outputs": [
    {
     "data": {
      "text/plain": [
       "A vs. B\n",
       "A vs. C\n",
       "A vs. D\n",
       "A vs. E\n",
       "A vs. F\n",
       "B vs. C\n",
       "B vs. D\n",
       "B vs. E\n",
       "B vs. F\n",
       "C vs. D\n",
       "C vs. E\n",
       "C vs. F\n",
       "D vs. E\n",
       "D vs. F\n",
       "E vs. F"
      ]
     },
     "execution_count": 5,
     "metadata": {},
     "output_type": "execute_result"
    }
   ],
   "source": [
    "teams = list('ABCDEF')\n",
    "matches = MatchSeries.all_pairs(teams)\n",
    "matches"
   ]
  },
  {
   "cell_type": "code",
   "execution_count": 6,
   "id": "a785cc00",
   "metadata": {},
   "outputs": [],
   "source": [
    "start = pendulum.parse('2023-01-28 09:30:00-05:00')\n",
    "dt = timedelta(minutes=25)\n",
    "times = [start + i * dt for i in range(len(matches))]"
   ]
  },
  {
   "cell_type": "code",
   "execution_count": 7,
   "id": "0a91c106",
   "metadata": {},
   "outputs": [
    {
     "data": {
      "text/plain": [
       "Tournament(15 games, 6 teams: ['A', 'B', 'C', 'D', 'E', 'F'], dates: ['2023-01-28'])"
      ]
     },
     "execution_count": 7,
     "metadata": {},
     "output_type": "execute_result"
    }
   ],
   "source": [
    "tourney = Tournament.create(matches, times)\n",
    "tourney"
   ]
  },
  {
   "cell_type": "code",
   "execution_count": 8,
   "id": "52050bfa",
   "metadata": {},
   "outputs": [
    {
     "data": {
      "text/html": [
       "<div>\n",
       "<style scoped>\n",
       "    .dataframe tbody tr th:only-of-type {\n",
       "        vertical-align: middle;\n",
       "    }\n",
       "\n",
       "    .dataframe tbody tr th {\n",
       "        vertical-align: top;\n",
       "    }\n",
       "\n",
       "    .dataframe thead th {\n",
       "        text-align: right;\n",
       "    }\n",
       "</style>\n",
       "<table border=\"1\" class=\"dataframe\">\n",
       "  <thead>\n",
       "    <tr style=\"text-align: right;\">\n",
       "      <th></th>\n",
       "      <th>game</th>\n",
       "      <th>time</th>\n",
       "      <th>match</th>\n",
       "    </tr>\n",
       "  </thead>\n",
       "  <tbody>\n",
       "    <tr>\n",
       "      <th>0</th>\n",
       "      <td>1</td>\n",
       "      <td>2023-01-28 09:30:00-05:00</td>\n",
       "      <td>(A, B)</td>\n",
       "    </tr>\n",
       "    <tr>\n",
       "      <th>1</th>\n",
       "      <td>2</td>\n",
       "      <td>2023-01-28 09:55:00-05:00</td>\n",
       "      <td>(A, C)</td>\n",
       "    </tr>\n",
       "    <tr>\n",
       "      <th>2</th>\n",
       "      <td>3</td>\n",
       "      <td>2023-01-28 10:20:00-05:00</td>\n",
       "      <td>(A, D)</td>\n",
       "    </tr>\n",
       "    <tr>\n",
       "      <th>3</th>\n",
       "      <td>4</td>\n",
       "      <td>2023-01-28 10:45:00-05:00</td>\n",
       "      <td>(A, E)</td>\n",
       "    </tr>\n",
       "    <tr>\n",
       "      <th>4</th>\n",
       "      <td>5</td>\n",
       "      <td>2023-01-28 11:10:00-05:00</td>\n",
       "      <td>(A, F)</td>\n",
       "    </tr>\n",
       "    <tr>\n",
       "      <th>5</th>\n",
       "      <td>6</td>\n",
       "      <td>2023-01-28 11:35:00-05:00</td>\n",
       "      <td>(B, C)</td>\n",
       "    </tr>\n",
       "    <tr>\n",
       "      <th>6</th>\n",
       "      <td>7</td>\n",
       "      <td>2023-01-28 12:00:00-05:00</td>\n",
       "      <td>(B, D)</td>\n",
       "    </tr>\n",
       "    <tr>\n",
       "      <th>7</th>\n",
       "      <td>8</td>\n",
       "      <td>2023-01-28 12:25:00-05:00</td>\n",
       "      <td>(B, E)</td>\n",
       "    </tr>\n",
       "    <tr>\n",
       "      <th>8</th>\n",
       "      <td>9</td>\n",
       "      <td>2023-01-28 12:50:00-05:00</td>\n",
       "      <td>(B, F)</td>\n",
       "    </tr>\n",
       "    <tr>\n",
       "      <th>9</th>\n",
       "      <td>10</td>\n",
       "      <td>2023-01-28 13:15:00-05:00</td>\n",
       "      <td>(C, D)</td>\n",
       "    </tr>\n",
       "    <tr>\n",
       "      <th>10</th>\n",
       "      <td>11</td>\n",
       "      <td>2023-01-28 13:40:00-05:00</td>\n",
       "      <td>(C, E)</td>\n",
       "    </tr>\n",
       "    <tr>\n",
       "      <th>11</th>\n",
       "      <td>12</td>\n",
       "      <td>2023-01-28 14:05:00-05:00</td>\n",
       "      <td>(C, F)</td>\n",
       "    </tr>\n",
       "    <tr>\n",
       "      <th>12</th>\n",
       "      <td>13</td>\n",
       "      <td>2023-01-28 14:30:00-05:00</td>\n",
       "      <td>(D, E)</td>\n",
       "    </tr>\n",
       "    <tr>\n",
       "      <th>13</th>\n",
       "      <td>14</td>\n",
       "      <td>2023-01-28 14:55:00-05:00</td>\n",
       "      <td>(D, F)</td>\n",
       "    </tr>\n",
       "    <tr>\n",
       "      <th>14</th>\n",
       "      <td>15</td>\n",
       "      <td>2023-01-28 15:20:00-05:00</td>\n",
       "      <td>(E, F)</td>\n",
       "    </tr>\n",
       "  </tbody>\n",
       "</table>\n",
       "</div>"
      ],
      "text/plain": [
       "    game                      time   match\n",
       "0      1 2023-01-28 09:30:00-05:00  (A, B)\n",
       "1      2 2023-01-28 09:55:00-05:00  (A, C)\n",
       "2      3 2023-01-28 10:20:00-05:00  (A, D)\n",
       "3      4 2023-01-28 10:45:00-05:00  (A, E)\n",
       "4      5 2023-01-28 11:10:00-05:00  (A, F)\n",
       "5      6 2023-01-28 11:35:00-05:00  (B, C)\n",
       "6      7 2023-01-28 12:00:00-05:00  (B, D)\n",
       "7      8 2023-01-28 12:25:00-05:00  (B, E)\n",
       "8      9 2023-01-28 12:50:00-05:00  (B, F)\n",
       "9     10 2023-01-28 13:15:00-05:00  (C, D)\n",
       "10    11 2023-01-28 13:40:00-05:00  (C, E)\n",
       "11    12 2023-01-28 14:05:00-05:00  (C, F)\n",
       "12    13 2023-01-28 14:30:00-05:00  (D, E)\n",
       "13    14 2023-01-28 14:55:00-05:00  (D, F)\n",
       "14    15 2023-01-28 15:20:00-05:00  (E, F)"
      ]
     },
     "execution_count": 8,
     "metadata": {},
     "output_type": "execute_result"
    }
   ],
   "source": [
    "tourney.to_dataframe()"
   ]
  },
  {
   "cell_type": "code",
   "execution_count": 14,
   "id": "bc04e559",
   "metadata": {},
   "outputs": [
    {
     "data": {
      "text/html": [
       "<div>\n",
       "<style scoped>\n",
       "    .dataframe tbody tr th:only-of-type {\n",
       "        vertical-align: middle;\n",
       "    }\n",
       "\n",
       "    .dataframe tbody tr th {\n",
       "        vertical-align: top;\n",
       "    }\n",
       "\n",
       "    .dataframe thead th {\n",
       "        text-align: right;\n",
       "    }\n",
       "</style>\n",
       "<table border=\"1\" class=\"dataframe\">\n",
       "  <thead>\n",
       "    <tr style=\"text-align: right;\">\n",
       "      <th></th>\n",
       "      <th>game</th>\n",
       "      <th>time</th>\n",
       "      <th>match</th>\n",
       "    </tr>\n",
       "  </thead>\n",
       "  <tbody>\n",
       "    <tr>\n",
       "      <th>0</th>\n",
       "      <td>1</td>\n",
       "      <td>2023-01-28 09:30:00-05:00</td>\n",
       "      <td>(A, C)</td>\n",
       "    </tr>\n",
       "    <tr>\n",
       "      <th>1</th>\n",
       "      <td>2</td>\n",
       "      <td>2023-01-28 09:55:00-05:00</td>\n",
       "      <td>(D, F)</td>\n",
       "    </tr>\n",
       "    <tr>\n",
       "      <th>2</th>\n",
       "      <td>3</td>\n",
       "      <td>2023-01-28 10:20:00-05:00</td>\n",
       "      <td>(B, E)</td>\n",
       "    </tr>\n",
       "    <tr>\n",
       "      <th>3</th>\n",
       "      <td>4</td>\n",
       "      <td>2023-01-28 10:45:00-05:00</td>\n",
       "      <td>(C, F)</td>\n",
       "    </tr>\n",
       "    <tr>\n",
       "      <th>4</th>\n",
       "      <td>5</td>\n",
       "      <td>2023-01-28 11:10:00-05:00</td>\n",
       "      <td>(A, D)</td>\n",
       "    </tr>\n",
       "    <tr>\n",
       "      <th>5</th>\n",
       "      <td>6</td>\n",
       "      <td>2023-01-28 11:35:00-05:00</td>\n",
       "      <td>(B, F)</td>\n",
       "    </tr>\n",
       "    <tr>\n",
       "      <th>6</th>\n",
       "      <td>7</td>\n",
       "      <td>2023-01-28 12:00:00-05:00</td>\n",
       "      <td>(C, E)</td>\n",
       "    </tr>\n",
       "    <tr>\n",
       "      <th>7</th>\n",
       "      <td>8</td>\n",
       "      <td>2023-01-28 12:25:00-05:00</td>\n",
       "      <td>(A, F)</td>\n",
       "    </tr>\n",
       "    <tr>\n",
       "      <th>8</th>\n",
       "      <td>9</td>\n",
       "      <td>2023-01-28 12:50:00-05:00</td>\n",
       "      <td>(B, D)</td>\n",
       "    </tr>\n",
       "    <tr>\n",
       "      <th>9</th>\n",
       "      <td>10</td>\n",
       "      <td>2023-01-28 13:15:00-05:00</td>\n",
       "      <td>(A, E)</td>\n",
       "    </tr>\n",
       "    <tr>\n",
       "      <th>10</th>\n",
       "      <td>11</td>\n",
       "      <td>2023-01-28 13:40:00-05:00</td>\n",
       "      <td>(C, D)</td>\n",
       "    </tr>\n",
       "    <tr>\n",
       "      <th>11</th>\n",
       "      <td>12</td>\n",
       "      <td>2023-01-28 14:05:00-05:00</td>\n",
       "      <td>(E, F)</td>\n",
       "    </tr>\n",
       "    <tr>\n",
       "      <th>12</th>\n",
       "      <td>13</td>\n",
       "      <td>2023-01-28 14:30:00-05:00</td>\n",
       "      <td>(A, B)</td>\n",
       "    </tr>\n",
       "    <tr>\n",
       "      <th>13</th>\n",
       "      <td>14</td>\n",
       "      <td>2023-01-28 14:55:00-05:00</td>\n",
       "      <td>(D, E)</td>\n",
       "    </tr>\n",
       "    <tr>\n",
       "      <th>14</th>\n",
       "      <td>15</td>\n",
       "      <td>2023-01-28 15:20:00-05:00</td>\n",
       "      <td>(B, C)</td>\n",
       "    </tr>\n",
       "  </tbody>\n",
       "</table>\n",
       "</div>"
      ],
      "text/plain": [
       "    game                      time   match\n",
       "0      1 2023-01-28 09:30:00-05:00  (A, C)\n",
       "1      2 2023-01-28 09:55:00-05:00  (D, F)\n",
       "2      3 2023-01-28 10:20:00-05:00  (B, E)\n",
       "3      4 2023-01-28 10:45:00-05:00  (C, F)\n",
       "4      5 2023-01-28 11:10:00-05:00  (A, D)\n",
       "5      6 2023-01-28 11:35:00-05:00  (B, F)\n",
       "6      7 2023-01-28 12:00:00-05:00  (C, E)\n",
       "7      8 2023-01-28 12:25:00-05:00  (A, F)\n",
       "8      9 2023-01-28 12:50:00-05:00  (B, D)\n",
       "9     10 2023-01-28 13:15:00-05:00  (A, E)\n",
       "10    11 2023-01-28 13:40:00-05:00  (C, D)\n",
       "11    12 2023-01-28 14:05:00-05:00  (E, F)\n",
       "12    13 2023-01-28 14:30:00-05:00  (A, B)\n",
       "13    14 2023-01-28 14:55:00-05:00  (D, E)\n",
       "14    15 2023-01-28 15:20:00-05:00  (B, C)"
      ]
     },
     "execution_count": 14,
     "metadata": {},
     "output_type": "execute_result"
    }
   ],
   "source": [
    "scheduled_tourney = Tournament.create(get_priority_schedule(teams, seed=0), times)\n",
    "scheduled_tourney.to_dataframe()"
   ]
  },
  {
   "cell_type": "code",
   "execution_count": 25,
   "id": "b1f5a1fa",
   "metadata": {},
   "outputs": [
    {
     "name": "stdout",
     "output_type": "stream",
     "text": [
      "A vs. C -- D\n",
      "D vs. F -- A\n",
      "B vs. E -- F\n",
      "C vs. F -- B\n",
      "A vs. D -- C\n",
      "B vs. F -- E\n",
      "C vs. E -- D\n",
      "A vs. F -- C\n",
      "B vs. D -- A\n",
      "A vs. E -- F\n",
      "C vs. D -- B\n",
      "E vs. F -- D\n",
      "A vs. B -- E\n",
      "D vs. E -- A\n",
      "B vs. C -- F\n"
     ]
    },
    {
     "data": {
      "text/plain": [
       "{'D': 3, 'A': 3, 'F': 3, 'C': 2, 'B': 2, 'E': 2}"
      ]
     },
     "execution_count": 25,
     "metadata": {},
     "output_type": "execute_result"
    }
   ],
   "source": [
    "refs, ref_counts = get_ref_schedule(teams, scheduled_tourney.matches)\n",
    "for match, ref in zip(scheduled_tourney.matches, refs):\n",
    "    print(match, '--', ref)\n",
    "ref_counts"
   ]
  },
  {
   "cell_type": "code",
   "execution_count": 26,
   "id": "98e91983",
   "metadata": {},
   "outputs": [
    {
     "name": "stdout",
     "output_type": "stream",
     "text": [
      "A vs. C -- D -- E\n",
      "D vs. F -- A -- C\n",
      "B vs. E -- F -- A\n",
      "C vs. F -- B -- E\n",
      "A vs. D -- C -- B\n",
      "B vs. F -- E -- C\n",
      "C vs. E -- D -- F\n",
      "A vs. F -- C -- B\n",
      "B vs. D -- A -- F\n",
      "A vs. E -- F -- D\n",
      "C vs. D -- B -- E\n",
      "E vs. F -- D -- A\n",
      "A vs. B -- E -- C\n",
      "D vs. E -- A -- B\n",
      "B vs. C -- F -- D\n"
     ]
    },
    {
     "data": {
      "text/plain": [
       "{'F': 2, 'E': 3, 'A': 2, 'C': 3, 'B': 3, 'D': 2}"
      ]
     },
     "execution_count": 26,
     "metadata": {},
     "output_type": "execute_result"
    }
   ],
   "source": [
    "scores, score_counts = get_scoreboard_schedule(teams, scheduled_tourney.matches, refs)\n",
    "for match, ref, score in zip(scheduled_tourney.matches, refs, scores):\n",
    "    print(match, '--', ref, '--', score)\n",
    "score_counts"
   ]
  },
  {
   "cell_type": "code",
   "execution_count": null,
   "id": "d9a751a0",
   "metadata": {},
   "outputs": [],
   "source": []
  }
 ],
 "metadata": {
  "kernelspec": {
   "display_name": "Python 3 (ipykernel)",
   "language": "python",
   "name": "python3"
  },
  "language_info": {
   "codemirror_mode": {
    "name": "ipython",
    "version": 3
   },
   "file_extension": ".py",
   "mimetype": "text/x-python",
   "name": "python",
   "nbconvert_exporter": "python",
   "pygments_lexer": "ipython3",
   "version": "3.11.0rc1"
  }
 },
 "nbformat": 4,
 "nbformat_minor": 5
}
