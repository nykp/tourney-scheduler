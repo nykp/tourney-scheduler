{
 "cells": [
  {
   "cell_type": "code",
   "execution_count": 94,
   "id": "20ee593d",
   "metadata": {},
   "outputs": [],
   "source": [
    "from itertools import combinations\n",
    "from math import comb, factorial\n",
    "from random import shuffle\n",
    "\n",
    "import numpy as np\n",
    "import pandas as pd"
   ]
  },
  {
   "cell_type": "code",
   "execution_count": 68,
   "id": "3e1c62d3",
   "metadata": {},
   "outputs": [
    {
     "data": {
      "text/plain": [
       "[('A', 'B'),\n",
       " ('A', 'C'),\n",
       " ('A', 'D'),\n",
       " ('A', 'E'),\n",
       " ('A', 'F'),\n",
       " ('A', 'G'),\n",
       " ('A', 'H'),\n",
       " ('B', 'C'),\n",
       " ('B', 'D'),\n",
       " ('B', 'E'),\n",
       " ('B', 'F'),\n",
       " ('B', 'G'),\n",
       " ('B', 'H'),\n",
       " ('C', 'D'),\n",
       " ('C', 'E'),\n",
       " ('C', 'F'),\n",
       " ('C', 'G'),\n",
       " ('C', 'H'),\n",
       " ('D', 'E'),\n",
       " ('D', 'F'),\n",
       " ('D', 'G'),\n",
       " ('D', 'H'),\n",
       " ('E', 'F'),\n",
       " ('E', 'G'),\n",
       " ('E', 'H'),\n",
       " ('F', 'G'),\n",
       " ('F', 'H'),\n",
       " ('G', 'H')]"
      ]
     },
     "execution_count": 68,
     "metadata": {},
     "output_type": "execute_result"
    }
   ],
   "source": [
    "teams = list('ABCDEFGH')\n",
    "list(combinations(teams, 2))"
   ]
  },
  {
   "cell_type": "code",
   "execution_count": 95,
   "id": "347f13b8",
   "metadata": {},
   "outputs": [
    {
     "data": {
      "text/plain": [
       "304888344611713860501504000000"
      ]
     },
     "execution_count": 95,
     "metadata": {},
     "output_type": "execute_result"
    }
   ],
   "source": [
    "factorial(comb(8, 2))"
   ]
  },
  {
   "cell_type": "code",
   "execution_count": 113,
   "id": "fc662859",
   "metadata": {},
   "outputs": [],
   "source": [
    "def get_matches(teams):\n",
    "    matches = list(combinations(teams, 2))\n",
    "#     shuffle(matches)\n",
    "    return matches"
   ]
  },
  {
   "cell_type": "code",
   "execution_count": 106,
   "id": "34a9802a",
   "metadata": {},
   "outputs": [],
   "source": [
    "def shares_team(match_1, match_2):\n",
    "    return len(set(match_1).intersection(set(match_2))) > 0\n",
    "\n",
    "def any_back_to_back(matches):\n",
    "    return any([shares_team(*match) for match in pairwise(matches)])"
   ]
  },
  {
   "cell_type": "code",
   "execution_count": 109,
   "id": "4ee45a30",
   "metadata": {},
   "outputs": [],
   "source": [
    "def get_team_priorities(teams, played):\n",
    "    priorities = {}\n",
    "    for distance, match in enumerate(played[::-1]):\n",
    "        for team in match:\n",
    "            if team not in priorities:\n",
    "                priorities[team] = distance\n",
    "    return priorities\n",
    "\n",
    "\n",
    "def get_match_priorities(teams, scheduled, remaining):\n",
    "    priorities = []\n",
    "    unscheduled_priority = len(teams)\n",
    "    team_priorities = get_team_priorities(teams, scheduled)\n",
    "    for team_1, team_2 in remaining:\n",
    "        team_1_priority = team_priorities.get(team_1, unscheduled_priority)\n",
    "        team_2_priority = team_priorities.get(team_2, unscheduled_priority)\n",
    "        priorities.append(team_1_priority * team_2_priority)\n",
    "    return priorities"
   ]
  },
  {
   "cell_type": "code",
   "execution_count": 134,
   "id": "a97a1a14",
   "metadata": {},
   "outputs": [],
   "source": [
    "def get_game_intervals(matches):\n",
    "    teams = sorted(set([team for match in matches for team in match]))\n",
    "    intervals = {}\n",
    "    for team in teams:\n",
    "        team_intervals = []\n",
    "        last_idx = -1\n",
    "        for idx, match in enumerate(matches):\n",
    "            if team in match:\n",
    "                team_intervals.append(idx - last_idx - 1)\n",
    "                last_idx = idx\n",
    "        team_intervals.append(idx - last_idx)\n",
    "        intervals[team] = team_intervals\n",
    "    return intervals"
   ]
  },
  {
   "cell_type": "code",
   "execution_count": 136,
   "id": "e4ee42e7",
   "metadata": {},
   "outputs": [],
   "source": [
    "def get_priority_schedule(teams, num_candidates=5):\n",
    "    all_matches = get_matches(teams)\n",
    "    \n",
    "    def get_candidate_schedule():\n",
    "        scheduled = []\n",
    "        remaining = all_matches[:]\n",
    "        while len(scheduled) < len(all_matches):\n",
    "            priorities = get_match_priorities(teams, scheduled, remaining)\n",
    "            max_priority = max(priorities)\n",
    "            highest = [idx for idx, priority in enumerate(priorities) if priority == max_priority]\n",
    "            shuffle(highest)\n",
    "            scheduled.append(remaining.pop(highest[0]))\n",
    "        return scheduled\n",
    "    \n",
    "    def score_schedule(schedule):\n",
    "        game_intervals = get_game_intervals(schedule)\n",
    "        return np.var([i for intvls in game_intervals.values() for i in intvls])\n",
    "    \n",
    "    candidate_schedules = [get_candidate_schedule() for _ in range(num_candidates)]\n",
    "    candidate_scores = [score_schedule(candidate) for candidate in candidate_schedules]\n",
    "    best_idx = np.argmin(candidate_scores)\n",
    "    return candidate_schedules[best_idx]"
   ]
  },
  {
   "cell_type": "code",
   "execution_count": 121,
   "id": "7a723533",
   "metadata": {},
   "outputs": [
    {
     "data": {
      "text/plain": [
       "[('C', 'F'),\n",
       " ('A', 'D'),\n",
       " ('B', 'E'),\n",
       " ('C', 'D'),\n",
       " ('A', 'F'),\n",
       " ('C', 'E'),\n",
       " ('B', 'D'),\n",
       " ('A', 'E'),\n",
       " ('B', 'F'),\n",
       " ('A', 'C'),\n",
       " ('D', 'E'),\n",
       " ('B', 'C'),\n",
       " ('E', 'F'),\n",
       " ('A', 'B'),\n",
       " ('D', 'F')]"
      ]
     },
     "execution_count": 121,
     "metadata": {},
     "output_type": "execute_result"
    }
   ],
   "source": [
    "get_priority_schedule(teams[:6])"
   ]
  },
  {
   "cell_type": "code",
   "execution_count": 135,
   "id": "a14c2ada",
   "metadata": {},
   "outputs": [
    {
     "data": {
      "text/plain": [
       "{'A': [0, 0, 0, 0, 0, 10],\n",
       " 'B': [0, 4, 0, 0, 0, 6],\n",
       " 'C': [1, 3, 3, 0, 0, 3],\n",
       " 'D': [2, 3, 2, 2, 0, 1],\n",
       " 'E': [3, 3, 2, 1, 1, 0],\n",
       " 'F': [4, 3, 2, 1, 0, 0]}"
      ]
     },
     "execution_count": 135,
     "metadata": {},
     "output_type": "execute_result"
    }
   ],
   "source": [
    "get_game_intervals(get_matches(teams[:6]))"
   ]
  },
  {
   "cell_type": "code",
   "execution_count": 137,
   "id": "f5735af6",
   "metadata": {},
   "outputs": [
    {
     "data": {
      "text/plain": [
       "{'A': [0, 2, 1, 3, 1, 3],\n",
       " 'B': [0, 3, 3, 3, 1, 0],\n",
       " 'C': [1, 2, 2, 1, 3, 1],\n",
       " 'D': [2, 2, 1, 2, 1, 2],\n",
       " 'E': [2, 3, 1, 2, 1, 1],\n",
       " 'F': [1, 1, 2, 3, 3, 0]}"
      ]
     },
     "execution_count": 137,
     "metadata": {},
     "output_type": "execute_result"
    }
   ],
   "source": [
    "get_game_intervals(get_priority_schedule(teams[:6]))"
   ]
  },
  {
   "cell_type": "code",
   "execution_count": 102,
   "id": "d4db8100",
   "metadata": {},
   "outputs": [],
   "source": [
    "def get_schedule(teams, max_retries=3):    \n",
    "    all_matches = get_matches(teams)\n",
    "    scheduled, remaining = all_matches[:1], all_matches[1:]\n",
    "    next_remaining = 0\n",
    "    while len(scheduled) < len(all_matches):\n",
    "        while next_remaining < len(remaining):\n",
    "            if not shares_team(remaining[next_remaining], scheduled[-1]):\n",
    "                scheduled.append(remaining.pop(next_remaining))\n",
    "                if remaining:\n",
    "                    next_remaining = next_remaining % len(remaining)\n",
    "                break\n",
    "            next_remaining += 1\n",
    "        if remaining and next_remaining >= len(remaining):\n",
    "            scheduled.append(remaining.pop(0))\n",
    "            next_remaining = 0\n",
    "    scheduled = scheduled[::-1]  # prefer back to back games at beginning of tournament\n",
    "    \n",
    "    retries = 0\n",
    "    while retries < max_retries and any_back_to_back(scheduled):\n",
    "        scheduled = get_schedule(teams, max_retries=0)\n",
    "    return scheduled"
   ]
  },
  {
   "cell_type": "code",
   "execution_count": 103,
   "id": "853da87c",
   "metadata": {},
   "outputs": [
    {
     "data": {
      "text/plain": [
       "[('E', 'F'),\n",
       " ('B', 'G'),\n",
       " ('C', 'E'),\n",
       " ('D', 'G'),\n",
       " ('A', 'F'),\n",
       " ('C', 'D'),\n",
       " ('B', 'E'),\n",
       " ('A', 'C'),\n",
       " ('B', 'F'),\n",
       " ('E', 'H'),\n",
       " ('A', 'B'),\n",
       " ('D', 'H'),\n",
       " ('F', 'G'),\n",
       " ('A', 'D'),\n",
       " ('G', 'H'),\n",
       " ('D', 'E'),\n",
       " ('C', 'G'),\n",
       " ('D', 'F'),\n",
       " ('A', 'H'),\n",
       " ('B', 'C'),\n",
       " ('F', 'H'),\n",
       " ('E', 'G'),\n",
       " ('B', 'D'),\n",
       " ('C', 'F'),\n",
       " ('B', 'H'),\n",
       " ('A', 'E'),\n",
       " ('C', 'H'),\n",
       " ('A', 'G')]"
      ]
     },
     "execution_count": 103,
     "metadata": {},
     "output_type": "execute_result"
    }
   ],
   "source": [
    "get_schedule(teams)"
   ]
  },
  {
   "cell_type": "code",
   "execution_count": 104,
   "id": "e007bc33",
   "metadata": {},
   "outputs": [
    {
     "data": {
      "text/plain": [
       "[('B', 'C'),\n",
       " ('A', 'E'),\n",
       " ('C', 'D'),\n",
       " ('B', 'E'),\n",
       " ('A', 'D'),\n",
       " ('C', 'E'),\n",
       " ('A', 'B'),\n",
       " ('D', 'E'),\n",
       " ('A', 'C'),\n",
       " ('B', 'D')]"
      ]
     },
     "execution_count": 104,
     "metadata": {},
     "output_type": "execute_result"
    }
   ],
   "source": [
    "get_schedule(teams[:5])"
   ]
  },
  {
   "cell_type": "code",
   "execution_count": 105,
   "id": "687d02e7",
   "metadata": {},
   "outputs": [
    {
     "data": {
      "text/plain": [
       "[('A', 'B'),\n",
       " ('E', 'F'),\n",
       " ('A', 'C'),\n",
       " ('B', 'F'),\n",
       " ('A', 'E'),\n",
       " ('B', 'D'),\n",
       " ('A', 'F'),\n",
       " ('B', 'C'),\n",
       " ('D', 'E'),\n",
       " ('C', 'F'),\n",
       " ('A', 'D'),\n",
       " ('C', 'E'),\n",
       " ('D', 'F'),\n",
       " ('B', 'E'),\n",
       " ('C', 'D')]"
      ]
     },
     "execution_count": 105,
     "metadata": {},
     "output_type": "execute_result"
    }
   ],
   "source": [
    "get_schedule(teams[:6])"
   ]
  },
  {
   "cell_type": "code",
   "execution_count": null,
   "id": "0ff254a6",
   "metadata": {},
   "outputs": [],
   "source": []
  }
 ],
 "metadata": {
  "kernelspec": {
   "display_name": "Python 3 (ipykernel)",
   "language": "python",
   "name": "python3"
  },
  "language_info": {
   "codemirror_mode": {
    "name": "ipython",
    "version": 3
   },
   "file_extension": ".py",
   "mimetype": "text/x-python",
   "name": "python",
   "nbconvert_exporter": "python",
   "pygments_lexer": "ipython3",
   "version": "3.8.13"
  }
 },
 "nbformat": 4,
 "nbformat_minor": 5
}
